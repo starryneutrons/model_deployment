{
 "cells": [
  {
   "cell_type": "code",
   "execution_count": 13,
   "id": "39c8d3bd",
   "metadata": {},
   "outputs": [],
   "source": [
    "import pandas as pd\n",
    "from sklearn.linear_model import LinearRegression\n",
    "import pickle\n",
    "\n",
    "#I am Isabella"
   ]
  },
  {
   "cell_type": "code",
   "execution_count": 14,
   "id": "5e2ce390",
   "metadata": {},
   "outputs": [],
   "source": [
    "flights = pd.read_csv('Data/flightsJFK.csv').dropna()\n",
    "\n",
    "X = flights[['dep_delay']].values.reshape(-1,1)\n",
    "y = flights[['arr_delay']].values.reshape(-1,1)\n",
    "\n",
    "linearModel = LinearRegression()\n",
    "\n",
    "#I am Thanh"
   ]
  },
  {
   "cell_type": "code",
   "execution_count": 15,
   "id": "60dfc49e",
   "metadata": {},
   "outputs": [],
   "source": [
    "linearModel = linearModel.fit(X, y)\n",
    "\n",
    "#I am Joseph"
   ]
  },
  {
   "cell_type": "code",
   "execution_count": 16,
   "id": "78febc54",
   "metadata": {},
   "outputs": [
    {
     "name": "stdout",
     "output_type": "stream",
     "text": [
      "Predicted arrival delay: 8.514988812807731\n",
      "Slope coeeficient: 0.5685320986362761\n"
     ]
    }
   ],
   "source": [
    "yHat = linearModel.predict([[18]])\n",
    "slope = linearModel.coef_\n",
    "\n",
    "print('Predicted arrival delay:', yHat[0][0])\n",
    "print('Slope coeeficient:', slope[0][0])\n",
    "\n",
    "#I am Isabella"
   ]
  },
  {
   "cell_type": "code",
   "execution_count": 17,
   "id": "e77ec933",
   "metadata": {},
   "outputs": [],
   "source": [
    "pickle.dump(linearModel, open('linearModel.pkl', 'wb'))\n",
    "\n",
    "#I am Thanh"
   ]
  },
  {
   "cell_type": "code",
   "execution_count": null,
   "id": "0ffcdc69",
   "metadata": {},
   "outputs": [],
   "source": []
  }
 ],
 "metadata": {
  "kernelspec": {
   "display_name": "Python 3 (ipykernel)",
   "language": "python",
   "name": "python3"
  },
  "language_info": {
   "codemirror_mode": {
    "name": "ipython",
    "version": 3
   },
   "file_extension": ".py",
   "mimetype": "text/x-python",
   "name": "python",
   "nbconvert_exporter": "python",
   "pygments_lexer": "ipython3",
   "version": "3.9.13"
  }
 },
 "nbformat": 4,
 "nbformat_minor": 5
}
